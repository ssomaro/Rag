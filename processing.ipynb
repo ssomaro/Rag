{
 "cells": [
  {
   "cell_type": "code",
   "execution_count": 2,
   "metadata": {},
   "outputs": [],
   "source": [
    "from langchain.vectorstores import Chroma\n",
    "from langchain.embeddings import OpenAIEmbeddings\n",
    "from langchain.text_splitter import RecursiveCharacterTextSplitter\n",
    "from langchain.llms import OpenAI\n",
    "from langchain.chains import RetrievalQA\n",
    "from langchain.document_loaders import TextLoader\n",
    "from langchain.document_loaders import DirectoryLoader"
   ]
  },
  {
   "cell_type": "code",
   "execution_count": 3,
   "metadata": {},
   "outputs": [],
   "source": [
    "text_splitter = RecursiveCharacterTextSplitter(chunk_size=500, chunk_overlap=50, separators= ['\\n', ' ', '.', ',', ';', ':', '?', '!'])\n",
    "texts = text_splitter.split_text(\"Hi, and welcome back. I'm Mike Quincy. I'm Joe Veselak. I'm Alex Nizic. So today's Talking Cars, your favorite podcast and mine, we are going to talk about the 2023 Dodge Hornet. Hornet, what the heck is that, right? So if you're into American car history, you're going to get a kick out of this. The name Hornet used to be on an American Motors model. The car was a featured player in the James Bond movie, The Man with the Golden Gun. It was red and did that spectacular jump across a river. Chrysler bought American Motors in 1987, mostly to get the company's highly valued Jeep brand, and promptly shuttered all the American Motors models. But the new model has nothing in common here. This iteration shares most of its body, powertrain, and interior with the 2023 Alfa Romeo Tenale, which we covered in a previous podcast. Both are built alongside each other at a plant in Italy. The Hornet is styled like yet another SUV-ish vehicle, competes with a Ford Bronco Sport, the Hyundai Tucson Hybrid, the Kia Sportage, the Toyota RAV4 Prime, and the Volkswagen Taos. Standard powertrain is a 2-liter turbocharged 4-cylinder engine with a 9-speed automatic transmission. The engine kicks out 268 horsepower, but on required premium fuel. We'll get to that later. EPA estimates 30 miles per gallon overall. All-wheel drive is standard. Standard safety features include forward collision warning, automatic emergency braking with pedestrian and cyclist detection, blind spot warning, lane departure warning, lane-keeping assist, and rear cross-traffic warning. Can we just say, everything is, all the safety features are standard. This is a long list here. A driver attention monitor, adaptive cruise control, and lane-centering assistance are optional. We bought a GT model and added the blacktop package, cold weather package, and a few odds and ends. And with the destination, the MSRP came to $34,675. So with that, I hope you're not allergic to any stings or anything, so we're going to talk about the Hornet and avoid the stinger, the Kia stinger. See that connection there? So Joe, tell us what you think so far of the Hornet. Yeah, so being based off of the Tenali, the Alfa Romeo that we've recently purchased or been getting some experience with, it's better, but not by much. And that's not really a good thing. One thing I do like a lot is the power. You wouldn't think that 268 horsepower. I don't like the power delivery, but that power, when you ask for it, it's actually pretty quick, and it's good for passing situations, stuff like that. I fit decent in it. I've also felt like I fit pretty good in the Tenali after spending some time and speaking with others that noticed some nuances, like Alex, that then I sit in it again and I go, yeah, that does bother me. But I kind of can drive a lot of cars and get around some of the issues with driving position. But I like how the seat feels. Other than that, things get pretty rough. Joe's not a complainer, so he can ignore a lot of the... Well, stand aside, and Alex and I have our opinions. Yeah. Controls, I feel like just like in the Tenali, you feel like you're kind of playing darts with the screen with a rougher ride and small icons, a lot, very busy. Yeah, the shifter's nice. I like that. I like a traditional shifter, especially in terms of driving. I always rest my hands sometimes on the shifter when I'm on longer trips on the highway. But yeah, there's a lot going on. Controls are overwhelming for me. There's a few issues. Alex, you definitely reacted to when Joe was talking about the screen. Fill us in here. I mean, in general, I kind of feel bad for Alfa Romeo a little bit. Because the Hornet is so similar, and it's probably going to take away, maybe, some much-needed sales for Alfa Romeo in the U.S., right? Well, but just scale back just a second here. Is this kind of inside baseball? I mean, we know that Alfa Romeo and Dodge are owned by the same company. Yeah, they are. And probably viewers and listeners of Talking Cars know that also. But, you know, so, I'm sorry, I didn't mean to interrupt. No, no, no. So same platform, a lot of the same components. Same look. But the Hornet is probably just going to, it's like you said, it's probably going to sell a lot more. I would think so. And I just, it's such a similar vehicle that you're really not getting a different experience with the Alfa Romeo, right? Like, yes, it comes plug-in hybrid only, but you can also get the plug-in hybrid with the Hornet if you get one of the higher trims, right? But like, it looks so similar. The interior is pretty much copy-paste. So I just, if the Alfa was the unique one in the marketplace, like maybe more of the sales would go towards that rather than the Dodge version. So I just feel it's a little interesting. You don't really see such blatant badge engineering all that often these days, right? We kind of move past that, but that's what this feels like. And, but at least with the Dodge, you can get a, it is cheaper, right? You can get this non-plug-in version, right? Right, I mean, not only they're sharing components, but they're not sharing price tags, right? Yeah, right, which makes, which again, is not great for Alfa. When you look at these two cars side-by-side, we do happen to have them both right now, right? And they do feel so similar and the price difference is quite large. Granted, yes, the Hornet we got is not plug-in hybrid, whereas the Alfa is. So that's a huge reason for that price difference. But yeah, I mean, the engine you mentioned, that is a little unique for this segment, right? This kind of compact crossover segment to come standard with that two liter turbo that makes the 268 horsepower that you mentioned, that's definitely a unique aspect of this, right? Most vehicles, like some of the others that you mentioned are not turbocharged, first of all, and they're, you know, somewhere around 200 horsepower, something like that, probably a CVT, so. Well, yeah, the composition is gonna really have an advantage when it comes to fuel economy compared to the Hornet, certainly. Yeah, that is the negative, absolutely. But talk about the power delivery of this turbocharged engine. Yeah, it wasn't great, right? No. I mean, some hesitation, maybe some confusion for, or from the transmission and which gear it wanted to be in. I don't know if you found. Yeah, even moving from forward to reverse. And then once I was like, went from, or reverse to forward in this situation to drive, and then I go to get on the throttle and there's just this hesitation clunk and a lunge forward, and it seems to do that in going into reverse sometimes, too. It's very clunky, and then this surge of power, and then, you know, it sorts it. I feel like the more throttle input you give it, the better. It likes quicker, it likes a little more. It says drive me fast. Yeah, you wanna drive it aggressive. So when you try to actually drive it smooth, it's counterintuitive and it goes the other way. Right, and then when you drive it aggressively, you start to get a little torque steer, actually, in this, right? So, you know, this whole preamble about this car was introduced with a lot of history, which I'm a big fan of. But when you talk about torque steer, and with this case, turbo lag, I mean, these are terms that were used like in the 80s and 90s, with some of the earliest iterations of turbocharged cars, which were not common back then. And yet we're seeing these characteristics in a modern car. Yeah, yeah, yeah. I don't know. It is interesting. And the tuning that they decided to go with, right, going after this higher horsepower, I think there are some compromises there. And it does feel like maybe there's some refinement they could do there to smooth things out, make it a little more responsive, you know, and just a better experience overall. But yeah. Yeah, and just to circle back on the controls, I wanna get your take on the touchscreen and some of the other things going on. Yeah, it's a, just like the Alpha, it's a mixed bag. You have some great physical controls, right? A lot of the climate is buttons and physical, you know, switches that you can use. You have a regular shifter, like you mentioned. So that's great. But the screen itself, which, you know, is running Uconnect, which the latest version, Uconnect 5, it's pretty good, similar to what you get in a Jeep or some of these other Stellantis vehicles, right? But the size and aspect ratio of the screen that they chose to put in both of these cars is just, it just doesn't work with the software, in my opinion. It's too small and it's really wide with a, you know, and short. So the way the system's laid out is there's a lot of really long lists. So when you have a really short screen trying to swipe through all these lists and select the features you want, it's just, it's simply difficult to do. And then the things you're targeting are really small. So you mentioned like playing darts, right? Yeah, yeah, yeah. So it just doesn't really work. And then the car is a little, you know, it's not the stiffest thing, but you're bouncing around a little bit and just trying to do all this stuff while driving is not the easiest. So some pluses, some minuses, and even the steering wheel controls I don't find to be super intuitive. You have to press a button to select which area on the gauge cluster you wanna start changing. Like if you wanna look at trip versus some other information on the screen, right? So you have to press the button, select the area of the screen, but then it times out. And if you don't make your selection quick enough, now that little scroll wheel thing changes to like next track or in my case, I know I've complained about this before, but if you're listening to like a long podcast and then you move accidentally switch, you know, off the screen, now all of a sudden you started it over and your hour and a half progress is ruined. So I don't know, little annoyances that add up, right? So. Yeah, right. And it goes along the same mentality that Consumer Reports has been saying a long time that these controls require more driver attention. You're trying, you have to think hard and get your hand-eye coordination just right to get to the second part of the podcast. It's taking your attention away from just driving. Yeah, yeah, right. Yeah, and you know, you mentioned the driving position and it reminds, just there's fundamentals with this vehicle that they didn't seem to get right. And that one really speaks to me because there's so many vehicles you hop in now and the driving position is generally pretty darn good. You get enough adjustment from the seat and the wheel and everything's positioned pretty well. So it's pretty rare that you see a fundamental issue like that, but in this vehicle and in the Alpha as well, the dead pedal, the pedal to the left of the brake pedal that you can rest your foot on, for me, it's way too close. So if I want to put the seat where I want to sit relative to everything else, now my legs are kind of like crunched up a little bit because I'm too close to the pedals. Or if I want to fix that problem and scoot the seat back, now there's not enough telescope adjustment from the wheel. So my arms are stretched out and then added onto that is the seatbelt anchor. I know Joe, you and I were talking about this where there's not enough adjustment there. So the belt's always slipping off my shoulder. So this is like things you, it sounds like a kind of minuscule complaint, but again, all of these things come together. But these are basics. These are things that every car company has to consider. I mean, the driving position is critical and to not have the belt to put on at the right height is kind of nuts. Yeah, I don't see it often. And it's not that it's not adjustable, it just doesn't adjust enough. Right. Yeah, it's like the lower B pillar or the B pillar came out of the dart or something and it's just in a lower location. It's funny, because when you said that, you know, you're trying to manipulate the screen and you're like playing darts. I was like, oh, dodge dart, there you go. We circled back on all the old Dodge products. The only thing that I'm going to add about the controls is traditionally Chrysler Dodge Jeep vehicles would have the audio controls on the backside of the steering wheel. So like your right hand could reach around and you could do the volume. Your left could do, you know, advance the track or go to your next radio preset. So when I got in this car and I was like, oh, they're not there. Yeah. Oh, that's too bad. But sticking with the interior, can we talk about the fit and finish a little bit? Any thoughts, feelings about this? I like how it's pretty basic with the cloth or whatever material the seats are. I like that, the red stitching. I like stuff when it's simple, not a lot of like chrome all over the place, wood, or I just like, you know, like a matte black or some silver, brushed aluminum, very simple with like, you know, yeah. I think it's, I like it. For what it, again, like a price point at where it is, you're not going to expect anything extravagant, which it's fine. And yeah, you'd like maybe some suede or some more sporty stuff on there, some leather, but I'm fine without it. I mean, are you seeing any kind of like Italian flair with this, you know, with going back to the upper- Oh, I think the little bit of Italian flair and the tonale, the little flag on the dash, I think they removed that and put maybe a little B logo or something like that. Hornet, right? But no, I think in general, it does pretty well. You know, yeah, there's not a ton of like little details, but you know, some nicer materials and I think some softer materials on the dash and thing like that. So I do think it's competitive from a fit and finish standpoint, from my perspective anyway. Yeah, I like the thick and grippy steering wheel, but I thought there was just too much hard plastic throughout, but maybe that's the concession that you're taking with a car at this price point. So sort of not totally surprising, but you know, still kind of another reason that we're looking at this car perhaps and just saying it's just not enough. It's not enough there. It's not enough that jazzes me either the way it drives or the way it's put together. Yeah, it's not convincing. Well, right, and this is a very competitive segment. I mean, this size SUV, you know, kind of a boxy vehicle offering all wheel drive. It seems that that's what a lot of people are looking for. Yeah, the problem is when you look at the list of the competitors, I just look at all the other options that I would choose first, you know? So it's tough and it's a very, like you said, it's a very competitive market. That being said, there's a few in here that I would not choose as well, but- What would those be? That I, the Taos. Yeah. That I'm not a big fan of. And that's, it comes down to transmission drivability that I'm a driver. I like enjoying driving on the road and these take away from it, especially even if it's just a low speed drivability issue like the Hornet has for the most part, as well as the Taos. Yeah, it's even worse in that Taos. Yeah, so that irks me more than other things like driving position and controls. I can deal with some bad controls but the driving experience pays off. Makes it worth it, yeah. Right. Yeah, I'm gonna draw the line on that for me because sometimes, even if a car drives really well, like some of our really expensive Mercedes-Benz all-electric vehicles drive pretty well. I mean, they're quiet, they're comfortable, but to me, the controls are just such a deal breaker. I don't wanna mess around with them, in other words. So we went kind of from comparing the Hornet and the Tonale and we've circled around to looking at the Hornet in comparison to the competition. And it seems like perhaps Chrysler and Alfa Romeo still have a little ways to go here. Yeah, they're kind of pitching it as the fun to drive option in the segment, right? That's why you have this standard two liter with a higher horsepower than kind of most of the competition, right? I was thinking about this and if I was after that fun to drive aspect in a small crossover, I would get a Kona N, right? Similar power, a little more exciting because this isn't ultimately, it drives fine and it's relatively comfortable, but it's not that engaging or sporty to drive. So Kona N actually starts at a pretty similar price as to what we paid for this. And if I was after one of the higher Hornet trims as a plug-in hybrid, which would start to get pretty expensive, RAV4 Prime all day for me. Right, yeah. I just don't see the, there's nothing really drawing me in personally. Yeah, I like your selections a lot. And when the first time I drove the, and I know this podcast isn't about the Tonale, but the first time I saw it in Consumer Reports Auto Test Garage, I was like dazzled by the wheels, like the wheels were these great, great design. And I'm like, wow, this thing might be kind of fun. And I drove it and I was like, and then I drove the Hornet and I thought, I think I prefer driving the Hornet over the Alpha. Yeah, simpler. Which is crazy. Weighs like 600 pounds less or something like that without the plug-in. That much? Yeah, it's quite a bit different, yep. That's a huge difference. And your range, without the plug-in system, your fuel tank's larger and your range is a lot higher. But you mentioned the look, and I will say in the Hornets, giving it the benefit of the doubt here, when I drove it for a weekend, a lot of people were actually asking me about like, oh, what is that? So I think, you know, especially with the dark wheels and kind of the interesting paint color that we have on ours, I was getting some attention. That might be more of a compliment to Alpha Romeo than it is to Dodge, but you know, it did get some attention. Right, but the way that both you guys were kind of introducing your impressions about this car, there just seemed like this dark cloud that was hanging over Alpha Romeo more so than Dodge. Yeah, kind of. Oh, wow. Listen, I learned a lot just talking about the differences between the Hornet and the Tonale. And, you know, just a reminder, this is just our first impressions. Check back with consumerreports.org for more information and our experiences on the Hornet as we honor the miles and finish up our testing. And, you know, we'll see if this Hornet can fly. And that brings us to our audience question. We love your questions. Text 30-second videos, send everything to talkingcarsaticloud.com. That's talkingcarsaticloud.com. We've got a question. This is Jim from Sioux Falls, South Dakota, who writes, automakers seem to be discontinuing models at an increasing rate. Should the buyer of a used car that has been discontinued be concerned, especially if the goal is to hang onto the car for 10 plus years? Excellent observation, Jim. And, Alex, I'm gonna put this one to you first to give Jim an insight as to what's happening with these disappearing cars. Yeah. Well, if you watched our last episode, I'm gonna sound like a broken record, but it really depends on the car, right? So, you know, it's a great question. And there seems to be this idea out there. And I had the same thought myself until looking into this a little more deeply, that automakers have to supply parts and things for cars for a certain amount of time, right? Like past their life, 10, 15 years, something like that seems to be the common, you know, thought that's out there. But I couldn't find anything to actually support that. That law wasn't able to find it, so. Maybe it's more urban myth then. Yeah, it appears to be. So ultimately, like many things in life, it comes down to if there's enough money to be made in supporting that vehicle, right? So if it's a popular model, whether it's the automaker finds it, you know, valuable and beneficial to keep supporting it through parts and service and things like that, or the aftermarket, right? They went, they made enough models or, you know, years of this vehicle for enough time where it's worth it for them to keep supporting it. If you're considering a car that was discontinued because it was announced and only on sale for a few years and didn't sell much and was kind of a flop, you're probably less, you know, well off because there's really not a lot of them out there to start with, and then there's really no incentive to keep the support going. So yeah, so it really depends on the model. And yeah, also if that car is being discontinued and going to be replaced by something similar, right? Or if it's just going away full stop. And then the last thing that comes to mind for me is, does that model share parts with other cars in that automaker's lineup, right? I think that's critical. Yeah, if it's got a common engine that was used elsewhere or suspension parts or whatever, right, some components from, you know, platform sharing is a big thing these days. So that'll help keep the life of it going longer too. So Joe, would you ever like take the plunge and if you could get a car that you knew was going to be discontinued, or maybe, you know, it's an older one that maybe you liked, you know, with everything that Alex said? Yeah, I think I would, depending on what the car was. But for, you know, situations where I knew there was a model being discontinued that I knew I can have aftermarket support, not even manufacturer support, or it's something that I'm confident in. Because you could be, you know, depending on if you're the type of person who's knowledgeable and knows, you know, how to, has the resources getting stuff fixed, or, you know, confident in that areas, then you're, you know, it's not that big of a risk if there's support from an aftermarket industry or parts elsewhere. Would you buy a Saturn? No, I wouldn't buy one if there were parts. Okay. But. Okay. I mean, I own a couple of those. And Alex, what I was thinking about when you're giving your answer about like the popularity of cars. Think about it. The Volkswagen Beetle has been out of production since I think 79 or 80, but there is such an aftermarket support. You can probably get almost every replacement component for an old school Beetle, even probably more so now than when they were in full production. Right, right. So I think you're spot on with the popularity of the car. Right. Other models, I mean, I'm not ashamed. I'm a big fan of Saabs and, you know, they've been out of production for a while. There is a decent amount of aftermarket parts for it, except for like the last model, the last Saab 9-5. I wouldn't probably buy that. Right, which shared components with a Buick Regal, which was a European platform. That was not produced for long at all. Yeah, yeah. Like if you needed a body panel or a headlight assembly or a piece of glass that's unique to that car, right? Like more of those types of components. Yeah, the alternative might be shared with something else, but one of those exterior pieces, right? Yeah. Yeah, I think a big part of this too, in hearing your guys' answer, it's like how much work the person is willing to do, right? How handy they are. Yeah, how handy they are. Going to junkyards to find pieces. I mean, you can keep anything going if you work hard enough, I suppose, right? Is this, you know, the car or cars that Jim is thinking about referring to, you know, is this gonna be like a day-to-day driver or is this like a hobby car? True, that's a great consideration as well, for sure. Because if it's a hobby car, then you don't have to worry about it sitting for a while because you can't find a particular part that you're going for. Right. Yeah, and you don't necessarily have to be mechanically inclined. I guess what I was saying before is just as long as you have the resources or the people to reach out to to have that fixed, you know, you can source the parts yourself and, you know, can kind of, you know, just take it upon yourself to find everything and find someone who can do it if you're not capable of doing it. Right. And like to bring it into kind of practical examples, the Ford Crown Victoria and the Mercury Grand Marquis shared a whole bunch of components with also like the Lincoln Town Car and stuff like that. Same platform, same engine transmission. And I believe that the Mercury was discontinued for, but they kept selling the Crown Vic for a little bit longer. So if you could get a great deal on a Grand Marquis, you know that you're going to be able to get parts for this without an issue. Right, right. So it really does come down to the really specific make and model that you're interested in. Don't they also call these like orphan cars? Have you heard that expression? I have heard that expression. Yeah. I'm not sure what it means. Orphan, an orphan that they have, they have these car shows called orphan car shows and they are gatherings of people that have like American Motors, you know, vehicles or Ramblers or some brand that is no longer in existence. Oh, I see, okay. So that's the, that kind of makes them the orphan. And right now you can say, you're going to bring your Mercury. You're going to bring your Plymouth. Your Saturn. You're going to bring your Ply, your Saturn. Exactly. These are all orphan cars. You've got to make it. So it's not exactly how Jim phrased his question, but we are certainly on automotive geek time here. So we get these kinds of things. And that will about do it for this episode, which was produced and edited masterfully by Anatoly The Great Shumsky. As always check the show notes for more information on the vehicles and topics that we've discussed. Just a reminder, please keep your questions coming to TalkingCarsAticloud.com. Thanks so much for tuning in.\")"
   ]
  },
  {
   "cell_type": "code",
   "execution_count": null,
   "metadata": {},
   "outputs": [],
   "source": []
  },
  {
   "cell_type": "code",
   "execution_count": 5,
   "metadata": {},
   "outputs": [],
   "source": [
    "from langchain.embeddings.openai import OpenAIEmbeddings\n",
    "import os\n",
    "from dotenv import load_dotenv\n",
    "load_dotenv()\n",
    "model_name = 'text-embedding-ada-002'\n",
    "\n",
    "embed = OpenAIEmbeddings(\n",
    "    model=model_name,\n",
    "    openai_api_key= os.getenv(\"OPENAI_API_KEY\")\n",
    ")"
   ]
  },
  {
   "cell_type": "code",
   "execution_count": 11,
   "metadata": {},
   "outputs": [
    {
     "ename": "NameError",
     "evalue": "name 'embedding' is not defined",
     "output_type": "error",
     "traceback": [
      "\u001b[1;31m---------------------------------------------------------------------------\u001b[0m",
      "\u001b[1;31mNameError\u001b[0m                                 Traceback (most recent call last)",
      "\u001b[1;32mc:\\Users\\sarad\\OneDrive\\Desktop\\OpenAI\\rag\\processing.ipynb Cell 5\u001b[0m line \u001b[0;36m2\n\u001b[0;32m      <a href='vscode-notebook-cell:/c%3A/Users/sarad/OneDrive/Desktop/OpenAI/rag/processing.ipynb#W4sZmlsZQ%3D%3D?line=0'>1</a>\u001b[0m vectordb \u001b[39m=\u001b[39m Chroma\u001b[39m.\u001b[39mfrom_documents(documents\u001b[39m=\u001b[39mtexts, \n\u001b[1;32m----> <a href='vscode-notebook-cell:/c%3A/Users/sarad/OneDrive/Desktop/OpenAI/rag/processing.ipynb#W4sZmlsZQ%3D%3D?line=1'>2</a>\u001b[0m                                  embedding\u001b[39m=\u001b[39membedding,\n\u001b[0;32m      <a href='vscode-notebook-cell:/c%3A/Users/sarad/OneDrive/Desktop/OpenAI/rag/processing.ipynb#W4sZmlsZQ%3D%3D?line=2'>3</a>\u001b[0m                                  persist_directory\u001b[39m=\u001b[39mpersist_directory)\n",
      "\u001b[1;31mNameError\u001b[0m: name 'embedding' is not defined"
     ]
    }
   ],
   "source": [
    "# vectordb = Chroma.from_documents(documents=texts, \n",
    "#                                  embedding=embedding,\n",
    "#                                  persist_directory=persist_directory)"
   ]
  },
  {
   "cell_type": "code",
   "execution_count": 5,
   "metadata": {},
   "outputs": [
    {
     "data": {
      "text/plain": [
       "(58, 1536)"
      ]
     },
     "execution_count": 5,
     "metadata": {},
     "output_type": "execute_result"
    }
   ],
   "source": [
    "\n",
    "\n",
    "res = embed.embed_documents(texts)\n",
    "len(res), len(res[0])"
   ]
  },
  {
   "cell_type": "code",
   "execution_count": 6,
   "metadata": {},
   "outputs": [
    {
     "data": {
      "text/plain": [
       "1536"
      ]
     },
     "execution_count": 6,
     "metadata": {},
     "output_type": "execute_result"
    }
   ],
   "source": [
    "len(res[0])"
   ]
  },
  {
   "cell_type": "code",
   "execution_count": 6,
   "metadata": {},
   "outputs": [],
   "source": [
    "# Embed and store the texts\n",
    "# Supplying a persist_directory will store the embeddings on disk\n",
    "persist_directory = 'db'\n",
    "\n",
    "## here we are using OpenAI embeddings but in future we will swap out to local embeddings\n",
    "embedding = OpenAIEmbeddings()\n",
    "\n",
    "vectordb = Chroma.from_texts(texts=texts, \n",
    "                                 embedding=embedding,\n",
    "                                 persist_directory=persist_directory)"
   ]
  },
  {
   "cell_type": "code",
   "execution_count": 7,
   "metadata": {},
   "outputs": [],
   "source": [
    "vectordb.persist()\n",
    "vectordb = None"
   ]
  },
  {
   "cell_type": "code",
   "execution_count": 8,
   "metadata": {},
   "outputs": [],
   "source": [
    "vectordb = Chroma(persist_directory=persist_directory, \n",
    "                  embedding_function=embedding)"
   ]
  },
  {
   "cell_type": "code",
   "execution_count": 9,
   "metadata": {},
   "outputs": [],
   "source": [
    "retriever = vectordb.as_retriever(search_kwargs={\"k\": 2})\n",
    "docs = retriever.get_relevant_documents(\"who does Hornet compete with\")"
   ]
  },
  {
   "cell_type": "code",
   "execution_count": 10,
   "metadata": {},
   "outputs": [
    {
     "data": {
      "text/plain": [
       "[Document(page_content=\"wanna mess around with them, in other words. So we went kind of from comparing the Hornet and the Tonale and we've circled around to looking at the Hornet in comparison to the competition. And it seems like perhaps Chrysler and Alfa Romeo still have a little ways to go here. Yeah, they're kind of pitching it as the fun to drive option in the segment, right? That's why you have this standard two liter with a higher horsepower than kind of most of the competition, right? I was thinking about this\", metadata={}),\n",
       " Document(page_content=\"in general, I kind of feel bad for Alfa Romeo a little bit. Because the Hornet is so similar, and it's probably going to take away, maybe, some much-needed sales for Alfa Romeo in the U.S., right? Well, but just scale back just a second here. Is this kind of inside baseball? I mean, we know that Alfa Romeo and Dodge are owned by the same company. Yeah, they are. And probably viewers and listeners of Talking Cars know that also. But, you know, so, I'm sorry, I didn't mean to interrupt. No, no,\", metadata={})]"
      ]
     },
     "execution_count": 10,
     "metadata": {},
     "output_type": "execute_result"
    }
   ],
   "source": [
    "docs"
   ]
  },
  {
   "cell_type": "code",
   "execution_count": 14,
   "metadata": {},
   "outputs": [],
   "source": [
    "qa_chain = RetrievalQA.from_chain_type(llm=OpenAI(), \n",
    "                                  chain_type=\"stuff\", \n",
    "                                  retriever=retriever, \n",
    "                                  return_source_documents=True)"
   ]
  },
  {
   "cell_type": "code",
   "execution_count": 16,
   "metadata": {},
   "outputs": [
    {
     "ename": "AttributeError",
     "evalue": "'RetrievalQA' object has no attribute 'get_prompt'",
     "output_type": "error",
     "traceback": [
      "\u001b[1;31m---------------------------------------------------------------------------\u001b[0m",
      "\u001b[1;31mAttributeError\u001b[0m                            Traceback (most recent call last)",
      "\u001b[1;32mc:\\Users\\sarad\\OneDrive\\Desktop\\OpenAI\\rag\\processing.ipynb Cell 14\u001b[0m line \u001b[0;36m1\n\u001b[1;32m----> <a href='vscode-notebook-cell:/c%3A/Users/sarad/OneDrive/Desktop/OpenAI/rag/processing.ipynb#X26sZmlsZQ%3D%3D?line=0'>1</a>\u001b[0m qa_chain\u001b[39m.\u001b[39mget_prompt()\n",
      "\u001b[1;31mAttributeError\u001b[0m: 'RetrievalQA' object has no attribute 'get_prompt'"
     ]
    }
   ],
   "source": [
    "qa_chain.get_prompt()"
   ]
  },
  {
   "cell_type": "code",
   "execution_count": 15,
   "metadata": {},
   "outputs": [],
   "source": [
    "query = \"who does Hornet compete with\"\n",
    "llm_response = qa_chain(query)\n"
   ]
  },
  {
   "cell_type": "code",
   "execution_count": 19,
   "metadata": {},
   "outputs": [
    {
     "data": {
      "text/plain": [
       "{'query': 'who does Hornet compete with',\n",
       " 'result': ' Chrysler and Alfa Romeo are pitching the Hornet as a fun to drive option in the segment, and it competes with other vehicles in that segment.',\n",
       " 'source_documents': [Document(page_content=\"wanna mess around with them, in other words. So we went kind of from comparing the Hornet and the Tonale and we've circled around to looking at the Hornet in comparison to the competition. And it seems like perhaps Chrysler and Alfa Romeo still have a little ways to go here. Yeah, they're kind of pitching it as the fun to drive option in the segment, right? That's why you have this standard two liter with a higher horsepower than kind of most of the competition, right? I was thinking about this\", metadata={}),\n",
       "  Document(page_content=\"wanna mess around with them, in other words. So we went kind of from comparing the Hornet and the Tonale and we've circled around to looking at the Hornet in comparison to the competition. And it seems like perhaps Chrysler and Alfa Romeo still have a little ways to go here. Yeah, they're kind of pitching it as the fun to drive option in the segment, right? That's why you have this standard two liter with a higher horsepower than kind of most of the competition, right? I was thinking about this\", metadata={})]}"
      ]
     },
     "execution_count": 19,
     "metadata": {},
     "output_type": "execute_result"
    }
   ],
   "source": [
    "#what is the query goint to llm\n",
    "llm_response\n",
    "\n",
    "#what is the response from llm\n"
   ]
  },
  {
   "cell_type": "code",
   "execution_count": 33,
   "metadata": {},
   "outputs": [
    {
     "data": {
      "text/plain": [
       "{'query': 'code of second chunk',\n",
       " 'result': ' 88',\n",
       " 'source_documents': [Document(page_content='then another second chunk has code 88', metadata={}),\n",
       "  Document(page_content='first text chunk has code 76', metadata={})]}"
      ]
     },
     "execution_count": 33,
     "metadata": {},
     "output_type": "execute_result"
    }
   ],
   "source": [
    "llm_response\n"
   ]
  },
  {
   "cell_type": "code",
   "execution_count": 1,
   "metadata": {},
   "outputs": [
    {
     "ename": "NameError",
     "evalue": "name 'qa_chain' is not defined",
     "output_type": "error",
     "traceback": [
      "\u001b[1;31m---------------------------------------------------------------------------\u001b[0m",
      "\u001b[1;31mNameError\u001b[0m                                 Traceback (most recent call last)",
      "\u001b[1;32mc:\\Users\\sarad\\OneDrive\\Desktop\\OpenAI\\rag\\processing.ipynb Cell 17\u001b[0m line \u001b[0;36m1\n\u001b[1;32m----> <a href='vscode-notebook-cell:/c%3A/Users/sarad/OneDrive/Desktop/OpenAI/rag/processing.ipynb#X22sZmlsZQ%3D%3D?line=0'>1</a>\u001b[0m \u001b[39mprint\u001b[39m(qa_chain\u001b[39m.\u001b[39mcombine_documents_chain\u001b[39m.\u001b[39mllm_chain\u001b[39m.\u001b[39mprompt\u001b[39m.\u001b[39mtemplate)\n",
      "\u001b[1;31mNameError\u001b[0m: name 'qa_chain' is not defined"
     ]
    }
   ],
   "source": [
    "print(qa_chain.combine_documents_chain.llm_chain.prompt.template)"
   ]
  },
  {
   "cell_type": "code",
   "execution_count": 36,
   "metadata": {},
   "outputs": [],
   "source": [
    "qa_chain.combine_documents_chain.llm_chain.prompt.template = \"hi\""
   ]
  },
  {
   "cell_type": "code",
   "execution_count": 39,
   "metadata": {},
   "outputs": [
    {
     "ename": "AttributeError",
     "evalue": "'Chroma' object has no attribute 'embedding_function'",
     "output_type": "error",
     "traceback": [
      "\u001b[1;31m---------------------------------------------------------------------------\u001b[0m",
      "\u001b[1;31mAttributeError\u001b[0m                            Traceback (most recent call last)",
      "\u001b[1;32mc:\\Users\\sarad\\OneDrive\\Desktop\\OpenAI\\rag\\processing.ipynb Cell 18\u001b[0m line \u001b[0;36m1\n\u001b[1;32m----> <a href='vscode-notebook-cell:/c%3A/Users/sarad/OneDrive/Desktop/OpenAI/rag/processing.ipynb#X24sZmlsZQ%3D%3D?line=0'>1</a>\u001b[0m \u001b[39mprint\u001b[39m(vectordb\u001b[39m.\u001b[39membedding_function\u001b[39m.\u001b[39membed_documents([\u001b[39m\"\u001b[39m\u001b[39mhi\u001b[39m\u001b[39m\"\u001b[39m]))\n",
      "\u001b[1;31mAttributeError\u001b[0m: 'Chroma' object has no attribute 'embedding_function'"
     ]
    }
   ],
   "source": []
  },
  {
   "cell_type": "code",
   "execution_count": 17,
   "metadata": {},
   "outputs": [],
   "source": [
    "def vectordb(text_chunks):\n",
    "    embedding = OpenAIEmbeddings()\n",
    "    vectordb = Chroma.from_texts(texts=text_chunks, \n",
    "                                 embedding=embedding,\n",
    "                                 persist_directory=persist_directory)\n",
    "    vectordb.persist()\n",
    "    vectordb = None\n",
    "    vectordb = Chroma(persist_directory=persist_directory, \n",
    "                  embedding_function=embedding)\n",
    "    retriever = vectordb.as_retriever(search_kwargs={\"k\": 1})\n",
    "    qa_chain = RetrievalQA.from_chain_type(llm=OpenAI(), \n",
    "                                  chain_type=\"stuff\", \n",
    "                                  retriever=retriever, \n",
    "                                  return_source_documents=True,)\n",
    "    # query = \" who does Hornet compete with\"\n",
    "    query = \"when was volkswagen beetle out of production from\"\n",
    "    llm_response = qa_chain(query)\n",
    "    return llm_response"
   ]
  },
  {
   "cell_type": "code",
   "execution_count": 18,
   "metadata": {},
   "outputs": [],
   "source": [
    "d = vectordb(texts)"
   ]
  },
  {
   "cell_type": "code",
   "execution_count": 19,
   "metadata": {},
   "outputs": [
    {
     "data": {
      "text/plain": [
       "{'query': 'when was volkswagen beetle out of production from',\n",
       " 'result': ' The Volkswagen Beetle was out of production from 1979-1980.',\n",
       " 'source_documents': [Document(page_content=\"Okay. I mean, I own a couple of those. And Alex, what I was thinking about when you're giving your answer about like the popularity of cars. Think about it. The Volkswagen Beetle has been out of production since I think 79 or 80, but there is such an aftermarket support. You can probably get almost every replacement component for an old school Beetle, even probably more so now than when they were in full production. Right, right. So I think you're spot on with the popularity of the car. Right.\", metadata={})]}"
      ]
     },
     "execution_count": 19,
     "metadata": {},
     "output_type": "execute_result"
    }
   ],
   "source": [
    "d"
   ]
  },
  {
   "cell_type": "code",
   "execution_count": null,
   "metadata": {},
   "outputs": [],
   "source": []
  }
 ],
 "metadata": {
  "kernelspec": {
   "display_name": "llms",
   "language": "python",
   "name": "python3"
  },
  "language_info": {
   "codemirror_mode": {
    "name": "ipython",
    "version": 3
   },
   "file_extension": ".py",
   "mimetype": "text/x-python",
   "name": "python",
   "nbconvert_exporter": "python",
   "pygments_lexer": "ipython3",
   "version": "3.11.5"
  },
  "orig_nbformat": 4
 },
 "nbformat": 4,
 "nbformat_minor": 2
}
